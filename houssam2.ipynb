{
  "nbformat": 4,
  "nbformat_minor": 0,
  "metadata": {
    "colab": {
      "name": "houssam2.ipynb",
      "provenance": [],
      "collapsed_sections": []
    },
    "kernelspec": {
      "name": "python3",
      "display_name": "Python 3"
    },
    "language_info": {
      "name": "python"
    }
  },
  "cells": [
    {
      "cell_type": "code",
      "metadata": {
        "colab": {
          "base_uri": "https://localhost:8080/"
        },
        "id": "2etSHoacGvT1",
        "outputId": "bdc00ef8-ffd0-410d-b4a8-e1f44b13a189"
      },
      "source": [
        "mylist=[]\n",
        "for i in range(2000,3201):\n",
        "  if i%7==0 and i%5!=0 : \n",
        "    mylist.append(i)\n",
        "print(mylist)"
      ],
      "execution_count": null,
      "outputs": [
        {
          "output_type": "stream",
          "text": [
            "[2002, 2009, 2016, 2023, 2037, 2044, 2051, 2058, 2072, 2079, 2086, 2093, 2107, 2114, 2121, 2128, 2142, 2149, 2156, 2163, 2177, 2184, 2191, 2198, 2212, 2219, 2226, 2233, 2247, 2254, 2261, 2268, 2282, 2289, 2296, 2303, 2317, 2324, 2331, 2338, 2352, 2359, 2366, 2373, 2387, 2394, 2401, 2408, 2422, 2429, 2436, 2443, 2457, 2464, 2471, 2478, 2492, 2499, 2506, 2513, 2527, 2534, 2541, 2548, 2562, 2569, 2576, 2583, 2597, 2604, 2611, 2618, 2632, 2639, 2646, 2653, 2667, 2674, 2681, 2688, 2702, 2709, 2716, 2723, 2737, 2744, 2751, 2758, 2772, 2779, 2786, 2793, 2807, 2814, 2821, 2828, 2842, 2849, 2856, 2863, 2877, 2884, 2891, 2898, 2912, 2919, 2926, 2933, 2947, 2954, 2961, 2968, 2982, 2989, 2996, 3003, 3017, 3024, 3031, 3038, 3052, 3059, 3066, 3073, 3087, 3094, 3101, 3108, 3122, 3129, 3136, 3143, 3157, 3164, 3171, 3178, 3192, 3199]\n"
          ],
          "name": "stdout"
        }
      ]
    },
    {
      "cell_type": "code",
      "metadata": {
        "colab": {
          "base_uri": "https://localhost:8080/"
        },
        "id": "ZrZlF-77T-Iv",
        "outputId": "77839e2a-69e5-4b69-cab5-b19397b4ef1f"
      },
      "source": [
        "a=int(input())\n",
        "result =1\n",
        "for i in range (1,a+1):\n",
        "  result= result*i\n",
        "print(result)"
      ],
      "execution_count": null,
      "outputs": [
        {
          "output_type": "stream",
          "text": [
            "6\n",
            "720\n"
          ],
          "name": "stdout"
        }
      ]
    },
    {
      "cell_type": "code",
      "metadata": {
        "id": "XipP3B4fGCVp"
      },
      "source": [
        "import numpy as np\n"
      ],
      "execution_count": null,
      "outputs": []
    },
    {
      "cell_type": "code",
      "metadata": {
        "colab": {
          "base_uri": "https://localhost:8080/"
        },
        "id": "0OFD3GwNF8uU",
        "outputId": "475ba30e-028f-45b8-87b0-77be1d9f3cee"
      },
      "source": [
        "array_1=np.array([[[0,1],[2,3],[4,5]]])\n",
        "\n",
        "list1=array_1.tolist()\n",
        "print(list1)"
      ],
      "execution_count": null,
      "outputs": [
        {
          "output_type": "stream",
          "text": [
            "[[[0, 1], [2, 3], [4, 5]]]\n"
          ],
          "name": "stdout"
        }
      ]
    },
    {
      "cell_type": "code",
      "metadata": {
        "colab": {
          "base_uri": "https://localhost:8080/"
        },
        "id": "6uhYl-4sIW7X",
        "outputId": "0082d96b-d2a9-4ffb-a3f2-ec87bede292d"
      },
      "source": [
        "import math\n",
        "def data(d):\n",
        "  z=math.sqrt((2*50*d)/30)\n",
        "  z=round(z)\n",
        "  print(z)\n",
        "data(100)\n",
        "data(150)\n",
        "data(180)"
      ],
      "execution_count": null,
      "outputs": [
        {
          "output_type": "stream",
          "text": [
            "18\n",
            "22\n",
            "24\n"
          ],
          "name": "stdout"
        }
      ]
    },
    {
      "cell_type": "code",
      "metadata": {
        "colab": {
          "base_uri": "https://localhost:8080/"
        },
        "id": "6fB0ifQMSrK7",
        "outputId": "91cc26ce-f945-4b6a-ac28-1a8ce05b430b"
      },
      "source": [
        "n=8\n",
        "dic={}\n",
        "for i in range (1,n+1) :\n",
        "  a=i*i\n",
        "  dic[i]=a\n",
        "print(dic)"
      ],
      "execution_count": null,
      "outputs": [
        {
          "output_type": "stream",
          "text": [
            "{1: 1, 2: 4, 3: 9, 4: 16, 5: 25, 6: 36, 7: 49, 8: 64}\n"
          ],
          "name": "stdout"
        }
      ]
    },
    {
      "cell_type": "code",
      "metadata": {
        "id": "osbxEi2N0zI2",
        "colab": {
          "base_uri": "https://localhost:8080/"
        },
        "outputId": "255e8043-7c58-4c51-e2c4-a6d59afdac91"
      },
      "source": [
        "x=np.array([[0,1,2],[2,1,0]])\n",
        "z=np.cov(x)\n",
        "print(z)"
      ],
      "execution_count": null,
      "outputs": [
        {
          "output_type": "stream",
          "text": [
            "[[ 1. -1.]\n",
            " [-1.  1.]]\n"
          ],
          "name": "stdout"
        }
      ]
    },
    {
      "cell_type": "code",
      "metadata": {
        "colab": {
          "base_uri": "https://localhost:8080/"
        },
        "id": "kQR5rgwd1lb7",
        "outputId": "60ab4883-aa6c-4043-85de-651ff9880770"
      },
      "source": [
        "def ch(str,n):\n",
        "  x=str[:n]\n",
        "  y=str[n+1:]\n",
        "  z=x+y\n",
        "  print(z)\n",
        "ch(\"lovelove\",3)"
      ],
      "execution_count": null,
      "outputs": [
        {
          "output_type": "stream",
          "text": [
            "lovlove\n"
          ],
          "name": "stdout"
        }
      ]
    }
  ]
}