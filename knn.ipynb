{
  "nbformat": 4,
  "nbformat_minor": 0,
  "metadata": {
    "colab": {
      "name": "Untitled132.ipynb",
      "provenance": []
    },
    "kernelspec": {
      "name": "python3",
      "display_name": "Python 3"
    },
    "language_info": {
      "name": "python"
    }
  },
  "cells": [
    {
      "cell_type": "code",
      "metadata": {
        "id": "fMRLXvC0ppgS"
      },
      "source": [
        "import pandas as pd \n",
        "import numpy as np \n",
        "import seaborn as sns\n",
        "import matplotlib.pyplot as plt\n",
        "%matplotlib inline \n",
        "plt.style.use(\"fivethirtyeight\")"
      ],
      "execution_count": null,
      "outputs": []
    },
    {
      "cell_type": "code",
      "metadata": {
        "colab": {
          "base_uri": "https://localhost:8080/",
          "height": 269
        },
        "id": "wQZcOb5fqJb7",
        "outputId": "3dc88d04-c321-4c9e-bd1d-f884e59e09aa"
      },
      "source": [
        "data=pd.read_csv(\"USA_Housing.csv\")\n",
        "data.head()"
      ],
      "execution_count": null,
      "outputs": [
        {
          "output_type": "execute_result",
          "data": {
            "text/html": [
              "<div>\n",
              "<style scoped>\n",
              "    .dataframe tbody tr th:only-of-type {\n",
              "        vertical-align: middle;\n",
              "    }\n",
              "\n",
              "    .dataframe tbody tr th {\n",
              "        vertical-align: top;\n",
              "    }\n",
              "\n",
              "    .dataframe thead th {\n",
              "        text-align: right;\n",
              "    }\n",
              "</style>\n",
              "<table border=\"1\" class=\"dataframe\">\n",
              "  <thead>\n",
              "    <tr style=\"text-align: right;\">\n",
              "      <th></th>\n",
              "      <th>Avg. Area Income</th>\n",
              "      <th>Avg. Area House Age</th>\n",
              "      <th>Avg. Area Number of Rooms</th>\n",
              "      <th>Avg. Area Number of Bedrooms</th>\n",
              "      <th>Area Population</th>\n",
              "      <th>Price</th>\n",
              "      <th>Address</th>\n",
              "    </tr>\n",
              "  </thead>\n",
              "  <tbody>\n",
              "    <tr>\n",
              "      <th>0</th>\n",
              "      <td>79545.458574</td>\n",
              "      <td>5.682861</td>\n",
              "      <td>7.009188</td>\n",
              "      <td>4.09</td>\n",
              "      <td>23086.800503</td>\n",
              "      <td>1.059034e+06</td>\n",
              "      <td>208 Michael Ferry Apt. 674\\nLaurabury, NE 3701...</td>\n",
              "    </tr>\n",
              "    <tr>\n",
              "      <th>1</th>\n",
              "      <td>79248.642455</td>\n",
              "      <td>6.002900</td>\n",
              "      <td>6.730821</td>\n",
              "      <td>3.09</td>\n",
              "      <td>40173.072174</td>\n",
              "      <td>1.505891e+06</td>\n",
              "      <td>188 Johnson Views Suite 079\\nLake Kathleen, CA...</td>\n",
              "    </tr>\n",
              "    <tr>\n",
              "      <th>2</th>\n",
              "      <td>61287.067179</td>\n",
              "      <td>5.865890</td>\n",
              "      <td>8.512727</td>\n",
              "      <td>5.13</td>\n",
              "      <td>36882.159400</td>\n",
              "      <td>1.058988e+06</td>\n",
              "      <td>9127 Elizabeth Stravenue\\nDanieltown, WI 06482...</td>\n",
              "    </tr>\n",
              "    <tr>\n",
              "      <th>3</th>\n",
              "      <td>63345.240046</td>\n",
              "      <td>7.188236</td>\n",
              "      <td>5.586729</td>\n",
              "      <td>3.26</td>\n",
              "      <td>34310.242831</td>\n",
              "      <td>1.260617e+06</td>\n",
              "      <td>USS Barnett\\nFPO AP 44820</td>\n",
              "    </tr>\n",
              "    <tr>\n",
              "      <th>4</th>\n",
              "      <td>59982.197226</td>\n",
              "      <td>5.040555</td>\n",
              "      <td>7.839388</td>\n",
              "      <td>4.23</td>\n",
              "      <td>26354.109472</td>\n",
              "      <td>6.309435e+05</td>\n",
              "      <td>USNS Raymond\\nFPO AE 09386</td>\n",
              "    </tr>\n",
              "  </tbody>\n",
              "</table>\n",
              "</div>"
            ],
            "text/plain": [
              "   Avg. Area Income  ...                                            Address\n",
              "0      79545.458574  ...  208 Michael Ferry Apt. 674\\nLaurabury, NE 3701...\n",
              "1      79248.642455  ...  188 Johnson Views Suite 079\\nLake Kathleen, CA...\n",
              "2      61287.067179  ...  9127 Elizabeth Stravenue\\nDanieltown, WI 06482...\n",
              "3      63345.240046  ...                          USS Barnett\\nFPO AP 44820\n",
              "4      59982.197226  ...                         USNS Raymond\\nFPO AE 09386\n",
              "\n",
              "[5 rows x 7 columns]"
            ]
          },
          "metadata": {},
          "execution_count": 5
        }
      ]
    },
    {
      "cell_type": "code",
      "metadata": {
        "colab": {
          "base_uri": "https://localhost:8080/"
        },
        "id": "aw3trrdZrnz1",
        "outputId": "5a0510bc-e3a7-4532-8292-7626bd0e320d"
      },
      "source": [
        "data.isnull().sum()"
      ],
      "execution_count": null,
      "outputs": [
        {
          "output_type": "execute_result",
          "data": {
            "text/plain": [
              "Avg. Area Income                0\n",
              "Avg. Area House Age             0\n",
              "Avg. Area Number of Rooms       0\n",
              "Avg. Area Number of Bedrooms    0\n",
              "Area Population                 0\n",
              "Price                           0\n",
              "Address                         0\n",
              "dtype: int64"
            ]
          },
          "metadata": {},
          "execution_count": 7
        }
      ]
    },
    {
      "cell_type": "code",
      "metadata": {
        "id": "zuyjxQ1frq7K"
      },
      "source": [
        "data.drop(\"Address\",axis=1,inplace=True)"
      ],
      "execution_count": null,
      "outputs": []
    },
    {
      "cell_type": "code",
      "metadata": {
        "id": "xFUWWGRBr05C"
      },
      "source": [
        "from scipy.stats.mstats import skew,normaltest"
      ],
      "execution_count": null,
      "outputs": []
    },
    {
      "cell_type": "code",
      "metadata": {
        "id": "puD8Qt1ir7F3"
      },
      "source": [
        "for col in data :\n",
        "  print(col)\n",
        "  print(data[col].skew())\n",
        "  plt.figure()\n",
        "  sns.distplot(data[col])\n",
        "  plt.show()"
      ],
      "execution_count": null,
      "outputs": []
    },
    {
      "cell_type": "code",
      "metadata": {
        "colab": {
          "base_uri": "https://localhost:8080/",
          "height": 388
        },
        "id": "mxnCMFBGulqi",
        "outputId": "8cc6ae6b-cc2f-4910-bfc6-a2a3af75c83d"
      },
      "source": [
        "print(data[\"Price\"].skew())\n",
        "sns.distplot(data[\"Price\"])\n",
        "plt.show()"
      ],
      "execution_count": null,
      "outputs": [
        {
          "output_type": "stream",
          "name": "stdout",
          "text": [
            "-0.0027180649335593944\n"
          ]
        },
        {
          "output_type": "stream",
          "name": "stderr",
          "text": [
            "/usr/local/lib/python3.7/dist-packages/seaborn/distributions.py:2619: FutureWarning: `distplot` is a deprecated function and will be removed in a future version. Please adapt your code to use either `displot` (a figure-level function with similar flexibility) or `histplot` (an axes-level function for histograms).\n",
            "  warnings.warn(msg, FutureWarning)\n"
          ]
        },
        {
          "output_type": "display_data",
          "data": {
            "image/png": "[encoded data removed]",
            "text/plain": [
              "<Figure size 432x288 with 1 Axes>"
            ]
          },
          "metadata": {}
        }
      ]
    },
    {
      "cell_type": "markdown",
      "metadata": {
        "id": "e5rOZU2pu49h"
      },
      "source": [
        "H0 :the target is normally distribution , alpha=0.05 , P_value < 0.05 , reject H0 ,and if p_value > 0.05 accept H0"
      ]
    },
    {
      "cell_type": "code",
      "metadata": {
        "colab": {
          "base_uri": "https://localhost:8080/"
        },
        "id": "8e_2Vf70uu-c",
        "outputId": "6d3a9446-34d7-4321-8fa8-13548c1792db"
      },
      "source": [
        "\n",
        "normaltest(data[\"Price\"])"
      ],
      "execution_count": null,
      "outputs": [
        {
          "output_type": "execute_result",
          "data": {
            "text/plain": [
              "NormaltestResult(statistic=0.6184772933479343, pvalue=0.7340055811323609)"
            ]
          },
          "metadata": {},
          "execution_count": 23
        }
      ]
    },
    {
      "cell_type": "code",
      "metadata": {
        "colab": {
          "base_uri": "https://localhost:8080/",
          "height": 525
        },
        "id": "V92dqCdwvWSp",
        "outputId": "595ca616-dff2-482f-9070-12ae6f6d0d00"
      },
      "source": [
        "plt.figure(figsize=(10,6))\n",
        "\n",
        "sns.heatmap(data.corr(),annot=True)\n",
        "plt.show()"
      ],
      "execution_count": null,
      "outputs": [
        {
          "output_type": "display_data",
          "data": {
            "image/png": "[encoded data removed]",
            "text/plain": [
              "<Figure size 720x432 with 2 Axes>"
            ]
          },
          "metadata": {
            "needs_background": "light"
          }
        }
      ]
    },
    {
      "cell_type": "code",
      "metadata": {
        "colab": {
          "base_uri": "https://localhost:8080/",
          "height": 434
        },
        "id": "7oi0dq4FvuSq",
        "outputId": "dc698175-fe52-461a-9af5-f6f274f81ffe"
      },
      "source": [
        "plt.figure(figsize=(10,6))\n",
        "plt.scatter(data[\"Avg. Area Income\"],data[\"Price\"])\n",
        "plt.xlabel(\"Avg.Area Income\")\n",
        "plt.ylabel(\"Price\")\n",
        "plt.show()"
      ],
      "execution_count": null,
      "outputs": [
        {
          "output_type": "display_data",
          "data": {
            "image/png": "[encoded data removed]",
            "text/plain": [
              "<Figure size 720x432 with 1 Axes>"
            ]
          },
          "metadata": {}
        }
      ]
    },
    {
      "cell_type": "code",
      "metadata": {
        "colab": {
          "base_uri": "https://localhost:8080/",
          "height": 202
        },
        "id": "0z3UVA3Tw2mg",
        "outputId": "af56204b-344d-4fa8-c555-5ef02c61af9a"
      },
      "source": [
        "data.head()"
      ],
      "execution_count": null,
      "outputs": [
        {
          "output_type": "execute_result",
          "data": {
            "text/html": [
              "<div>\n",
              "<style scoped>\n",
              "    .dataframe tbody tr th:only-of-type {\n",
              "        vertical-align: middle;\n",
              "    }\n",
              "\n",
              "    .dataframe tbody tr th {\n",
              "        vertical-align: top;\n",
              "    }\n",
              "\n",
              "    .dataframe thead th {\n",
              "        text-align: right;\n",
              "    }\n",
              "</style>\n",
              "<table border=\"1\" class=\"dataframe\">\n",
              "  <thead>\n",
              "    <tr style=\"text-align: right;\">\n",
              "      <th></th>\n",
              "      <th>Avg. Area Income</th>\n",
              "      <th>Avg. Area House Age</th>\n",
              "      <th>Avg. Area Number of Rooms</th>\n",
              "      <th>Avg. Area Number of Bedrooms</th>\n",
              "      <th>Area Population</th>\n",
              "      <th>Price</th>\n",
              "    </tr>\n",
              "  </thead>\n",
              "  <tbody>\n",
              "    <tr>\n",
              "      <th>0</th>\n",
              "      <td>79545.458574</td>\n",
              "      <td>5.682861</td>\n",
              "      <td>7.009188</td>\n",
              "      <td>4.09</td>\n",
              "      <td>23086.800503</td>\n",
              "      <td>1.059034e+06</td>\n",
              "    </tr>\n",
              "    <tr>\n",
              "      <th>1</th>\n",
              "      <td>79248.642455</td>\n",
              "      <td>6.002900</td>\n",
              "      <td>6.730821</td>\n",
              "      <td>3.09</td>\n",
              "      <td>40173.072174</td>\n",
              "      <td>1.505891e+06</td>\n",
              "    </tr>\n",
              "    <tr>\n",
              "      <th>2</th>\n",
              "      <td>61287.067179</td>\n",
              "      <td>5.865890</td>\n",
              "      <td>8.512727</td>\n",
              "      <td>5.13</td>\n",
              "      <td>36882.159400</td>\n",
              "      <td>1.058988e+06</td>\n",
              "    </tr>\n",
              "    <tr>\n",
              "      <th>3</th>\n",
              "      <td>63345.240046</td>\n",
              "      <td>7.188236</td>\n",
              "      <td>5.586729</td>\n",
              "      <td>3.26</td>\n",
              "      <td>34310.242831</td>\n",
              "      <td>1.260617e+06</td>\n",
              "    </tr>\n",
              "    <tr>\n",
              "      <th>4</th>\n",
              "      <td>59982.197226</td>\n",
              "      <td>5.040555</td>\n",
              "      <td>7.839388</td>\n",
              "      <td>4.23</td>\n",
              "      <td>26354.109472</td>\n",
              "      <td>6.309435e+05</td>\n",
              "    </tr>\n",
              "  </tbody>\n",
              "</table>\n",
              "</div>"
            ],
            "text/plain": [
              "   Avg. Area Income  Avg. Area House Age  ...  Area Population         Price\n",
              "0      79545.458574             5.682861  ...     23086.800503  1.059034e+06\n",
              "1      79248.642455             6.002900  ...     40173.072174  1.505891e+06\n",
              "2      61287.067179             5.865890  ...     36882.159400  1.058988e+06\n",
              "3      63345.240046             7.188236  ...     34310.242831  1.260617e+06\n",
              "4      59982.197226             5.040555  ...     26354.109472  6.309435e+05\n",
              "\n",
              "[5 rows x 6 columns]"
            ]
          },
          "metadata": {},
          "execution_count": 31
        }
      ]
    },
    {
      "cell_type": "code",
      "metadata": {
        "id": "knUXC2dWwjYO"
      },
      "source": [
        "x=data.iloc[:,:-1].values\n",
        "y=data[\"Price\"].values"
      ],
      "execution_count": null,
      "outputs": []
    },
    {
      "cell_type": "code",
      "metadata": {
        "id": "gynbDCCsxBDr"
      },
      "source": [
        "from sklearn.model_selection import train_test_split\n",
        "x_train,x_test,y_train,y_test =train_test_split(x,y,test_size=0.3 ,random_state=104)"
      ],
      "execution_count": null,
      "outputs": []
    },
    {
      "cell_type": "code",
      "metadata": {
        "id": "Ke6EvUwOxYN1"
      },
      "source": [
        "from sklearn.preprocessing import StandardScaler\n",
        "s=StandardScaler()\n",
        "x_train_s=s.fit_transform(x_train)\n",
        "x_test_s=s.transform(x_test)"
      ],
      "execution_count": null,
      "outputs": []
    },
    {
      "cell_type": "code",
      "metadata": {
        "id": "qdTUuDMDxvYR"
      },
      "source": [
        "from sklearn.linear_model import LinearRegression\n",
        "lr=LinearRegression()\n",
        "lr.fit(x_train_s,y_train)\n",
        "y_pred=lr.predict(x_test_s)"
      ],
      "execution_count": null,
      "outputs": []
    },
    {
      "cell_type": "code",
      "metadata": {
        "colab": {
          "base_uri": "https://localhost:8080/"
        },
        "id": "8uvz3ru9yLrE",
        "outputId": "c88b5cdf-0d2c-41d6-a474-f95ef8a94631"
      },
      "source": [
        "from sklearn import metrics\n",
        "r2_square = metrics.r2_score(y_test, y_pred)\n",
        "r2_square "
      ],
      "execution_count": null,
      "outputs": [
        {
          "output_type": "execute_result",
          "data": {
            "text/plain": [
              "0.9182594029148625"
            ]
          },
          "metadata": {},
          "execution_count": 38
        }
      ]
    },
    {
      "cell_type": "code",
      "metadata": {
        "id": "FdDD82Kwy434"
      },
      "source": [
        "from sklearn.model_selection import cross_val_score,cross_val_predict\n"
      ],
      "execution_count": null,
      "outputs": []
    },
    {
      "cell_type": "code",
      "metadata": {
        "id": "Ds0KaApuyb2T"
      },
      "source": [
        "def cross_val(model):\n",
        "  pred=cross_val_score(model,x,y,cv=7)\n",
        "  return pred.mean()"
      ],
      "execution_count": null,
      "outputs": []
    },
    {
      "cell_type": "code",
      "metadata": {
        "colab": {
          "base_uri": "https://localhost:8080/"
        },
        "id": "3DhnmLbazoAH",
        "outputId": "d500c157-af62-4212-cf59-1ab6d58bb190"
      },
      "source": [
        "cross_val(lr)"
      ],
      "execution_count": null,
      "outputs": [
        {
          "output_type": "execute_result",
          "data": {
            "text/plain": [
              "0.9175177534824643"
            ]
          },
          "metadata": {},
          "execution_count": 53
        }
      ]
    },
    {
      "cell_type": "code",
      "metadata": {
        "id": "I-pD9cxsz69Y"
      },
      "source": [
        "def evaluate(true,predicted):\n",
        "  mse = metrics.mean_squared_error(true, predicted)\n",
        "  r2_square = metrics.r2_score(true, predicted)\n",
        "  return mse,r2_square"
      ],
      "execution_count": null,
      "outputs": []
    },
    {
      "cell_type": "code",
      "metadata": {
        "colab": {
          "base_uri": "https://localhost:8080/"
        },
        "id": "jbZ-psBM0LZF",
        "outputId": "7fd71653-bfbf-452f-9b8b-b5a281d1de24"
      },
      "source": [
        "evaluate(y_test,y_pred)"
      ],
      "execution_count": null,
      "outputs": [
        {
          "output_type": "execute_result",
          "data": {
            "text/plain": [
              "(10124004268.806562, 0.9182594029148625)"
            ]
          },
          "metadata": {},
          "execution_count": 55
        }
      ]
    },
    {
      "cell_type": "code",
      "metadata": {
        "id": "PbwBj1WU0WJa"
      },
      "source": [
        "s=pd.DataFrame(data=[[\"linear regreesion\",*evaluate(y_test,y_pred),cross_val(lr)]],columns=[\"model\",\"MSE\",\"R2_score\",\"cross_validation\"])"
      ],
      "execution_count": null,
      "outputs": []
    },
    {
      "cell_type": "code",
      "metadata": {
        "id": "g8xhltfw2KOs"
      },
      "source": [
        "from sklearn.linear_model import Ridge\n",
        "rd=Ridge(alpha=100, solver='cholesky', tol=0.0001, random_state=42)\n",
        "rd.fit(x_train_s,y_train)\n",
        "y_pred_rd=rd.predict(x_test_s)"
      ],
      "execution_count": null,
      "outputs": []
    },
    {
      "cell_type": "code",
      "metadata": {
        "colab": {
          "base_uri": "https://localhost:8080/"
        },
        "id": "qmivhx_72x--",
        "outputId": "2741b79c-54f7-41e2-fddd-ff1652b4f2a0"
      },
      "source": [
        "evaluate(y_test,y_pred_rd)"
      ],
      "execution_count": null,
      "outputs": [
        {
          "output_type": "execute_result",
          "data": {
            "text/plain": [
              "(10315625264.058775, 0.9167122666089026)"
            ]
          },
          "metadata": {},
          "execution_count": 67
        }
      ]
    },
    {
      "cell_type": "code",
      "metadata": {
        "id": "9X4TUpVp3Fc_"
      },
      "source": [
        "s1=pd.DataFrame(data=[[\"Ridge regreesion\",*evaluate(y_test,y_pred_rd),cross_val(rd)]],columns=[\"model\",\"MSE\",\"R2_score\",\"cross_validation\"])"
      ],
      "execution_count": null,
      "outputs": []
    },
    {
      "cell_type": "code",
      "metadata": {
        "colab": {
          "base_uri": "https://localhost:8080/",
          "height": 110
        },
        "id": "BzFcjUEN3Tci",
        "outputId": "15c9bf16-a438-4d79-e315-0a3f4143a60d"
      },
      "source": [
        "s=s.append(s1)\n",
        "s"
      ],
      "execution_count": null,
      "outputs": [
        {
          "output_type": "execute_result",
          "data": {
            "text/html": [
              "<div>\n",
              "<style scoped>\n",
              "    .dataframe tbody tr th:only-of-type {\n",
              "        vertical-align: middle;\n",
              "    }\n",
              "\n",
              "    .dataframe tbody tr th {\n",
              "        vertical-align: top;\n",
              "    }\n",
              "\n",
              "    .dataframe thead th {\n",
              "        text-align: right;\n",
              "    }\n",
              "</style>\n",
              "<table border=\"1\" class=\"dataframe\">\n",
              "  <thead>\n",
              "    <tr style=\"text-align: right;\">\n",
              "      <th></th>\n",
              "      <th>model</th>\n",
              "      <th>MSE</th>\n",
              "      <th>R2_score</th>\n",
              "      <th>cross_validation</th>\n",
              "    </tr>\n",
              "  </thead>\n",
              "  <tbody>\n",
              "    <tr>\n",
              "      <th>0</th>\n",
              "      <td>linear regreesion</td>\n",
              "      <td>1.031563e+10</td>\n",
              "      <td>0.916712</td>\n",
              "      <td>0.917518</td>\n",
              "    </tr>\n",
              "    <tr>\n",
              "      <th>0</th>\n",
              "      <td>Ridge regreesion</td>\n",
              "      <td>1.031563e+10</td>\n",
              "      <td>0.916712</td>\n",
              "      <td>0.917324</td>\n",
              "    </tr>\n",
              "  </tbody>\n",
              "</table>\n",
              "</div>"
            ],
            "text/plain": [
              "               model           MSE  R2_score  cross_validation\n",
              "0  linear regreesion  1.031563e+10  0.916712          0.917518\n",
              "0   Ridge regreesion  1.031563e+10  0.916712          0.917324"
            ]
          },
          "metadata": {},
          "execution_count": 70
        }
      ]
    },
    {
      "cell_type": "code",
      "metadata": {
        "id": "5TfbSQn93ulv"
      },
      "source": [
        "from sklearn.model_selection import KFold"
      ],
      "execution_count": null,
      "outputs": []
    },
    {
      "cell_type": "code",
      "metadata": {
        "id": "CNZbB3rQ36g6"
      },
      "source": [
        "def Kfold(model):\n",
        "  kf=KFold(shuffle=True ,random_state=7000,n_splits=5)\n",
        "  kf.split(x)\n",
        "  for train_index,test_index in kf.split(x):\n",
        "  #print(\"TRAIN:\", train_index, \"TEST:\", test_index)\n",
        "    x_train_1,x_test_1,y_train_1,y_test_1 =(x[train_index,:],x[test_index,:],y[train_index],y[test_index])\n",
        "  model.fit(x_train_1,y_train_1)\n",
        "  ypred_1=model.predict(x_test_1)\n",
        "  r2_square = metrics.r2_score(y_test_1, ypred_1)\n",
        "  r2_square"
      ],
      "execution_count": null,
      "outputs": []
    },
    {
      "cell_type": "code",
      "metadata": {
        "colab": {
          "base_uri": "https://localhost:8080/"
        },
        "id": "FM50kmLN61gf",
        "outputId": "28c7198a-1345-4629-e376-231fda843ac7"
      },
      "source": [
        "lr.fit(x_train_1,y_train_1)\n",
        "ypred_1=lr.predict(x_test_1)\n",
        "r2_square = metrics.r2_score(y_test_1, ypred_1)\n",
        "r2_square"
      ],
      "execution_count": null,
      "outputs": [
        {
          "output_type": "execute_result",
          "data": {
            "text/plain": [
              "0.9190207474669836"
            ]
          },
          "metadata": {},
          "execution_count": 98
        }
      ]
    },
    {
      "cell_type": "code",
      "metadata": {
        "colab": {
          "base_uri": "https://localhost:8080/"
        },
        "id": "S-OTin3D7pwS",
        "outputId": "bddc7355-69a0-4577-f1af-a0127dbac002"
      },
      "source": [
        "rd.fit(x_train_1,y_train_1)\n",
        "y_pred_rd1=rd.predict(x_test_1)\n",
        "r2_square = metrics.r2_score(y_test_1, y_pred_rd1)\n",
        "r2_square"
      ],
      "execution_count": null,
      "outputs": [
        {
          "output_type": "execute_result",
          "data": {
            "text/plain": [
              "0.9185326817150385"
            ]
          },
          "metadata": {},
          "execution_count": 101
        }
      ]
    },
    {
      "cell_type": "code",
      "metadata": {
        "id": "JeoYjY7Z8obr"
      },
      "source": [
        "def Kfold(model):\n",
        "  kf=KFold(shuffle=True ,random_state=7000,n_splits=5)\n",
        "  kf.split(x)\n",
        "  for train_index,test_index in kf.split(x):\n",
        "  #print(\"TRAIN:\", train_index, \"TEST:\", test_index)\n",
        "    x_train_1,x_test_1,y_train_1,y_test_1 =(x[train_index,:],x[test_index,:],y[train_index],y[test_index])\n",
        "  model.fit(x_train_1,y_train_1)\n",
        "  ypred_1=model.predict(x_test_1)\n",
        "  r2_square = metrics.r2_score(y_test_1, ypred_1)\n",
        "  return print(\"r2_square : \",r2_square)"
      ],
      "execution_count": null,
      "outputs": []
    },
    {
      "cell_type": "code",
      "metadata": {
        "colab": {
          "base_uri": "https://localhost:8080/"
        },
        "id": "bH-AL07l8qUb",
        "outputId": "e9366782-d893-4423-92b4-1e326771cb60"
      },
      "source": [
        "Kfold(lr)"
      ],
      "execution_count": null,
      "outputs": [
        {
          "output_type": "stream",
          "name": "stdout",
          "text": [
            "r2_square :  0.9190207474669836\n"
          ]
        }
      ]
    },
    {
      "cell_type": "code",
      "metadata": {
        "colab": {
          "base_uri": "https://localhost:8080/"
        },
        "id": "8pErdxAA8xV-",
        "outputId": "06400a7b-8f5a-4868-e012-741a9ddfd5e9"
      },
      "source": [
        "Kfold(rd)"
      ],
      "execution_count": null,
      "outputs": [
        {
          "output_type": "stream",
          "name": "stdout",
          "text": [
            "r2_square :  0.9185326817150385\n"
          ]
        }
      ]
    }
  ]
}